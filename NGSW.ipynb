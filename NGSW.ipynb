{
 "cells": [
  {
   "cell_type": "markdown",
   "metadata": {},
   "source": [
    "# NGSW Analysis\n",
    "## September 2019\n",
    "### GRM and TRM\n"
   ]
  },
  {
   "cell_type": "markdown",
   "metadata": {},
   "source": [
    "Hornady Index of Terminal Standards (HITS) number using the formula \n",
    ">$HITS = \\frac {Bullet Weight^2xVelocity}{ (Bullet Diameter^2 / 700,000}$\n",
    "\n",
    "In words, the HITS number is equal to the square of the bullet weight (in grains) times the velocity (in feet per second) divided by the square of the bullet diameter (in inches) divided by 700,000. Note that the HITS calculation method is meant to be an indicator of how severely a specific bullet might wound a live target, and today it is the most widely used calculation for this purpose."
   ]
  },
  {
   "cell_type": "markdown",
   "metadata": {},
   "source": [
    "Calculate the energy the bullet will deliver to the target on impact using the formula \n",
    ">$Energy = \\frac {Bullet Weight x Velocity^2}{450,437}$\n",
    "\n",
    "In words, the bullet energy (in foot-pounds) is equal to the bullet weight (in grains) times the square of the bullet velocity (in feet per minute) divided by 450,437"
   ]
  },
  {
   "cell_type": "markdown",
   "metadata": {},
   "source": [
    "http://www.appliedballisticsllc.com/Downloads/Ballistic%20Performance%20of%20Rifle%20Bullets%203rd%20Edition%20Bullet%20List.pdf\n",
    "\n",
    "\n",
    "https://precisionrifleblog.com/2019/06/09/g1-vs-g7-vs-custom-drag-models/"
   ]
  },
  {
   "cell_type": "code",
   "execution_count": null,
   "metadata": {},
   "outputs": [],
   "source": []
  }
 ],
 "metadata": {
  "kernelspec": {
   "display_name": "Python 3",
   "language": "python",
   "name": "python3"
  },
  "language_info": {
   "codemirror_mode": {
    "name": "ipython",
    "version": 3
   },
   "file_extension": ".py",
   "mimetype": "text/x-python",
   "name": "python",
   "nbconvert_exporter": "python",
   "pygments_lexer": "ipython3",
   "version": "3.7.3"
  }
 },
 "nbformat": 4,
 "nbformat_minor": 2
}
